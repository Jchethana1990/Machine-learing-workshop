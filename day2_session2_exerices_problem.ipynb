{
  "nbformat": 4,
  "nbformat_minor": 0,
  "metadata": {
    "colab": {
      "name": "day2 session2 exerices problem.ipynb",
      "provenance": [],
      "authorship_tag": "ABX9TyOC/4n8xdx8OaRNBlaWObv7",
      "include_colab_link": true
    },
    "kernelspec": {
      "name": "python3",
      "display_name": "Python 3"
    }
  },
  "cells": [
    {
      "cell_type": "markdown",
      "metadata": {
        "id": "view-in-github",
        "colab_type": "text"
      },
      "source": [
        "<a href=\"https://colab.research.google.com/github/Jchethana1990/Machine-learning-workshop/blob/master/day2_session2_exerices_problem.ipynb\" target=\"_parent\"><img src=\"https://colab.research.google.com/assets/colab-badge.svg\" alt=\"Open In Colab\"/></a>"
      ]
    },
    {
      "cell_type": "markdown",
      "metadata": {
        "id": "e1QnE4Mb6ODV",
        "colab_type": "text"
      },
      "source": [
        "1. Add rollno and marks {name:mark} for n number of students through keyboard in a dictionary and print the marks in descending order with respective name."
      ]
    },
    {
      "cell_type": "code",
      "metadata": {
        "id": "mTKl8iRQ6jxf",
        "colab_type": "code",
        "outputId": "61e0600b-d934-4df1-c3ea-95b5122af70f",
        "colab": {
          "base_uri": "https://localhost:8080/",
          "height": 118
        }
      },
      "source": [
        "import operator\n",
        "d={}\n",
        "for i in range(int(input(\"Enter The Number Of Students: \"))):\n",
        "  n=input(f\"Enter The Name Of Student-{i+1}: \")\n",
        "  d[n]=int(input(f\"Enter The Marks Of Student-{i+1}: \"))\n",
        "print(dict(sorted(d.items(), key=operator.itemgetter(1), reverse=True)))\n",
        "\n"
      ],
      "execution_count": 0,
      "outputs": [
        {
          "output_type": "stream",
          "text": [
            "Enter The Number Of Students: 2\n",
            "Enter The Name Of Student-1: aru\n",
            "Enter The Marks Of Student-1: 85\n",
            "Enter The Name Of Student-2: chethana\n",
            "Enter The Marks Of Student-2: 95\n",
            "{'chethana': 95, 'aru': 85}\n"
          ],
          "name": "stdout"
        }
      ]
    },
    {
      "cell_type": "code",
      "metadata": {
        "id": "vfpu1Vnx9E3p",
        "colab_type": "code",
        "colab": {}
      },
      "source": [
        ""
      ],
      "execution_count": 0,
      "outputs": []
    },
    {
      "cell_type": "markdown",
      "metadata": {
        "id": "vbzYHsGs7aRN",
        "colab_type": "text"
      },
      "source": [
        "2. Add name and salary {name:salary} for n number of employees through keyboard in a dictionary and print them in name alphabetical order with salary"
      ]
    },
    {
      "cell_type": "code",
      "metadata": {
        "id": "5hZUugAC7gYV",
        "colab_type": "code",
        "outputId": "ab4295f6-91db-4df8-9f78-9ce41798bcaa",
        "colab": {
          "base_uri": "https://localhost:8080/",
          "height": 118
        }
      },
      "source": [
        "import operator\n",
        "d={}\n",
        "for i in range(int(input(\"Enter The Number Of Students: \"))):\n",
        "  n=input(f\"Enter The Name Of Employee-{i+1}: \")\n",
        "  d[n]=int(input(f\"Enter The Salary Of Employee-{i+1}: \"))\n",
        "print(dict(sorted(d.items(), key=operator.itemgetter(0))))"
      ],
      "execution_count": 0,
      "outputs": [
        {
          "output_type": "stream",
          "text": [
            "Enter The Number Of Students: 2\n",
            "Enter The Name Of Employee-1: kiran\n",
            "Enter The Salary Of Employee-1: 53222\n",
            "Enter The Name Of Employee-2: tharun\n",
            "Enter The Salary Of Employee-2: 85124\n",
            "{'kiran': 53222, 'tharun': 85124}\n"
          ],
          "name": "stdout"
        }
      ]
    },
    {
      "cell_type": "markdown",
      "metadata": {
        "id": "_bEs4_7Y7yA5",
        "colab_type": "text"
      },
      "source": [
        "3. Add name and salary {name:salary} for n number of employees through keyboard in a dictionary and print them in salary ascending order and sum, max, min and average of the salaries"
      ]
    },
    {
      "cell_type": "code",
      "metadata": {
        "id": "Qet63BhI71Lo",
        "colab_type": "code",
        "outputId": "8f05a7fe-e753-43ef-a90a-82c32067f4a1",
        "colab": {
          "base_uri": "https://localhost:8080/",
          "height": 185
        }
      },
      "source": [
        "import operator\n",
        "d={}\n",
        "for i in range(int(input(\"Enter The Number Of Students: \"))):\n",
        "  n=input(f\"Enter The Name Of Employee-{i+1}: \")\n",
        "  d[n]=int(input(f\"Enter The Salary Of Employee-{i+1}: \"))\n",
        "print(dict(sorted(d.items(), key=operator.itemgetter(1))))\n",
        "print(f\"Sum: {sum(d.values())}\\nMax: {max(d.values())}\\nMin: {min(d.values())}\\nAverage: {sum(d.values())/len(d)}\")\n"
      ],
      "execution_count": 0,
      "outputs": [
        {
          "output_type": "stream",
          "text": [
            "Enter The Number Of Students: 2\n",
            "Enter The Name Of Employee-1: shreya\n",
            "Enter The Salary Of Employee-1: 10000\n",
            "Enter The Name Of Employee-2: sinchana\n",
            "Enter The Salary Of Employee-2: 23621\n",
            "{'shreya': 10000, 'sinchana': 23621}\n",
            "Sum: 33621\n",
            "Max: 23621\n",
            "Min: 10000\n",
            "Average: 16810.5\n"
          ],
          "name": "stdout"
        }
      ]
    },
    {
      "cell_type": "markdown",
      "metadata": {
        "id": "JtZ48SHO8Fop",
        "colab_type": "text"
      },
      "source": [
        "4. Add name and salary {name:salary} for n number of employees through keyboard in a dictionary and print only the employees whose salary is greater than 2000 but less than 4000"
      ]
    },
    {
      "cell_type": "code",
      "metadata": {
        "id": "KVUGp3AC8LWn",
        "colab_type": "code",
        "outputId": "a69669cf-efc1-4810-a327-f8fe90f4bf7c",
        "colab": {
          "base_uri": "https://localhost:8080/",
          "height": 118
        }
      },
      "source": [
        "d={}\n",
        "for i in range(int(input(\"Enter The Number Of Students: \"))):\n",
        "  n=input(f\"Enter The Name Of Employee-{i+1}: \")\n",
        "  d[n]=int(input(f\"Enter The Salary Of Employee-{i+1}: \"))\n",
        "print(dict([(k,v) for k,v in d.items() if 2000<v<4000]))"
      ],
      "execution_count": 0,
      "outputs": [
        {
          "output_type": "stream",
          "text": [
            "Enter The Number Of Students: 2\n",
            "Enter The Name Of Employee-1: kushi\n",
            "Enter The Salary Of Employee-1: 40000\n",
            "Enter The Name Of Employee-2: ramitha\n",
            "Enter The Salary Of Employee-2: 60000\n",
            "{}\n"
          ],
          "name": "stdout"
        }
      ]
    },
    {
      "cell_type": "markdown",
      "metadata": {
        "id": "gLzK4BTS8i_r",
        "colab_type": "text"
      },
      "source": [
        "\n",
        "\n",
        "5. Python program to convert a 3 digit number into words"
      ]
    },
    {
      "cell_type": "code",
      "metadata": {
        "id": "4ETQ5XGF9G8L",
        "colab_type": "code",
        "outputId": "fb4357e6-0932-4dfe-db2e-c682d3ae1d02",
        "colab": {
          "base_uri": "https://localhost:8080/",
          "height": 50
        }
      },
      "source": [
        "d={0:'',1:'one',2:'two',3:'three',4:'four',5:'five',6:'six',7:'seven',8:'eight',9:'nine',\\\n",
        "   10:'ten',11:'eleven',12:'twelve',13:'thirteen',14:'fourteen',15:'fifteen',16:'sixteen',\\\n",
        "   17:'seventeen',18:'eightteen',19:'nineteen',20:'twenty',30:'thirty',40:'fourty',50:'fifty',\\\n",
        "   60:'sixty',70:'seventy',80:'eighty',90:'ninty',100:'One hundred',200:'Two hundred',300:'three hundred',400:'four hundred',500:'five hundred',600:'six hundred',700:'seven hundred',800:'eight hundred',900:'nine hundred'}\n",
        "num=int(input(\"Enter the integer between 100 to 999:\"))\n",
        "print(f\"{d[num//100*100]} {d[((num//10)%10)*10]} {d[num%10]}\")"
      ],
      "execution_count": 0,
      "outputs": [
        {
          "output_type": "stream",
          "text": [
            "Enter the integer between 100 to 999:754\n",
            "seven hundred fifty four\n"
          ],
          "name": "stdout"
        }
      ]
    },
    {
      "cell_type": "markdown",
      "metadata": {
        "id": "Vgps89IM9TAy",
        "colab_type": "text"
      },
      "source": [
        "6.Python Program to count the total number of charaters (except blank space) in a text file."
      ]
    },
    {
      "cell_type": "code",
      "metadata": {
        "id": "Md0QWo6W9h8F",
        "colab_type": "code",
        "outputId": "7f033246-a34c-43ae-cf01-b87190b79323",
        "colab": {
          "base_uri": "https://localhost:8080/",
          "height": 34
        }
      },
      "source": [
        "f=open(\"/cc.txt\",\"r\")\n",
        "t=f.read()\n",
        "c=0\n",
        "for i in t:\n",
        "  if(i!=\" \" and i!='\\n'):\n",
        "    c+=1\n",
        "print(c)\n"
      ],
      "execution_count": 0,
      "outputs": [
        {
          "output_type": "stream",
          "text": [
            "3\n"
          ],
          "name": "stdout"
        }
      ]
    },
    {
      "cell_type": "markdown",
      "metadata": {
        "id": "0EC3trSs-4jF",
        "colab_type": "text"
      },
      "source": [
        "7.Python Program to print all the numbers present in a text file with its total number of occurrence."
      ]
    },
    {
      "cell_type": "code",
      "metadata": {
        "id": "odSq0kFIBTTg",
        "colab_type": "code",
        "outputId": "84eee424-05b8-4114-ad83-754b19867b0c",
        "colab": {
          "base_uri": "https://localhost:8080/",
          "height": 67
        }
      },
      "source": [
        "file_txt = open(\"/cc.txt\",\"r\")\t\t\n",
        "text = file_txt.read()\t\n",
        "w = []\t\n",
        "d = dict() \n",
        "for line in text: \n",
        "    line = line.strip() \t\n",
        "    if(line.isdigit()):\n",
        "           w.append(line)\n",
        "for j in w:\n",
        "      if j in d:\n",
        "        d[j] = d[j] + 1\n",
        "      else: \n",
        "            d[j] = 1 \n",
        "for key in list(d.keys()): \n",
        "    print(key, \":\", d[key])"
      ],
      "execution_count": 0,
      "outputs": [
        {
          "output_type": "stream",
          "text": [
            "1 : 2\n",
            "2 : 1\n",
            "3 : 1\n"
          ],
          "name": "stdout"
        }
      ]
    },
    {
      "cell_type": "markdown",
      "metadata": {
        "id": "E4MQyYzRBuop",
        "colab_type": "text"
      },
      "source": [
        "8.Python Program to append the contents of one file to another file by getting the both file names through keyboard ."
      ]
    },
    {
      "cell_type": "code",
      "metadata": {
        "id": "EZVDG5YYB3M8",
        "colab_type": "code",
        "outputId": "cc33923b-5754-43f9-8c5b-f1dd4c5579c3",
        "colab": {
          "base_uri": "https://localhost:8080/",
          "height": 50
        }
      },
      "source": [
        "name1 = input(\"Enter file to be read from: \")\n",
        "name2 = input(\"Enter file to be appended to: \")\n",
        "fin = open(name1, \"r\")\n",
        "data2 = fin.read()\n",
        "fin.close()\n",
        "fout = open(name2, \"a\")\n",
        "fout.write(data2)\n",
        "fout.close()"
      ],
      "execution_count": 0,
      "outputs": [
        {
          "output_type": "stream",
          "text": [
            "Enter file to be read from: /cc.txt\n",
            "Enter file to be appended to: /anu.txt\n"
          ],
          "name": "stdout"
        }
      ]
    },
    {
      "cell_type": "markdown",
      "metadata": {
        "id": "_j2mGVOZB_id",
        "colab_type": "text"
      },
      "source": [
        "9.Python Program to count the number of blank spaces in a text file."
      ]
    },
    {
      "cell_type": "code",
      "metadata": {
        "id": "_ZQj3r-WCEbc",
        "colab_type": "code",
        "outputId": "dc43c2fe-a3b7-4b84-ed7a-5df4f8d5b775",
        "colab": {
          "base_uri": "https://localhost:8080/",
          "height": 34
        }
      },
      "source": [
        "file_txt = open(\"/chethu.txt\",\"r\")\t\t\n",
        "text = file_txt.read()\t\t\t\n",
        "charc = 0\t\n",
        "for i in text:\t\t\t\t\n",
        "\tif(i == \" \"):\n",
        "\t\t charc += 1\n",
        " \n",
        "print (\"total num of spaces: \",charc);"
      ],
      "execution_count": 0,
      "outputs": [
        {
          "output_type": "stream",
          "text": [
            "total num of spaces:  1\n"
          ],
          "name": "stdout"
        }
      ]
    },
    {
      "cell_type": "markdown",
      "metadata": {
        "id": "9QDE1HvZCOE_",
        "colab_type": "text"
      },
      "source": [
        "10.Python Program to read a file and capitalize the first letter of every word in the file and copy the every word capitalized content into another file and read it "
      ]
    },
    {
      "cell_type": "code",
      "metadata": {
        "id": "vabjo_MMCUq1",
        "colab_type": "code",
        "outputId": "92ce2905-9cc7-403f-a3ab-9a2662b623ca",
        "colab": {
          "base_uri": "https://localhost:8080/",
          "height": 34
        }
      },
      "source": [
        "with open('/anu.txt', 'r') as f:\n",
        "  with open(\"chethu.txt\", \"w\") as f1:\n",
        "    for line in f:\n",
        "        l=line.title()\n",
        "        f1.write(l)\n",
        "file2=open(\"chethu.txt\",'r')\n",
        "line=file2.readline()\n",
        "while(line!=\"\"):\n",
        "    print(line)\n",
        "    line=file2.readline()\n",
        "file2.close()"
      ],
      "execution_count": 0,
      "outputs": [
        {
          "output_type": "stream",
          "text": [
            "Chethana\n"
          ],
          "name": "stdout"
        }
      ]
    }
  ]
}